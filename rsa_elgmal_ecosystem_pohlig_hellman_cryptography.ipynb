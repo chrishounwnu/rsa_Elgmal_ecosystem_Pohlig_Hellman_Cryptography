{
  "nbformat": 4,
  "nbformat_minor": 0,
  "metadata": {
    "colab": {
      "provenance": []
    },
    "kernelspec": {
      "name": "python3",
      "display_name": "Python 3"
    },
    "language_info": {
      "name": "python"
    }
  },
  "cells": [
    {
      "cell_type": "markdown",
      "source": [
        "## Project 1: Sieve of Eratosthenes Algo"
      ],
      "metadata": {
        "id": "J8LNsyENCoL8"
      }
    },
    {
      "cell_type": "code",
      "source": [
        "import math\n",
        "\n",
        "def sieve_of_eratosthenes(limit):\n",
        "    sieve = [True] * (limit + 1)\n",
        "    sieve[0] = sieve[1] = False\n",
        "\n",
        "    for num in range(2, int(math.sqrt(limit)) + 1):\n",
        "        if sieve[num]:\n",
        "            for multiple in range(num * num, limit + 1, num):\n",
        "                sieve[multiple] = False\n",
        "\n",
        "    return [index for index, is_prime in enumerate(sieve) if is_prime]\n",
        "\n",
        "# Constants\n",
        "n = 8201997\n",
        "N = 5000000 + n\n",
        "\n",
        "\n",
        "estimated_limit = int(N * math.log(N) * 1.2)\n",
        "\n",
        "# Find the N-th prime\n",
        "primes = sieve_of_eratosthenes(estimated_limit)\n",
        "\n",
        "if len(primes) >= N:\n",
        "    print(\"The (5000000 + n)-th prime number is:\", primes[N - 1])\n",
        "else:\n",
        "    print(\"Error: Not enough primes generated. Increase the limit.\")\n",
        "\n",
        "# Count primes between 2^25 and 2^26\n",
        "lower_bound = 2**25\n",
        "upper_bound = 2**26\n",
        "primes_in_range = [p for p in primes if lower_bound <= p <= upper_bound]\n",
        "\n",
        "print(\"Number of primes between 2^25 and 2^26:\", len(primes_in_range))"
      ],
      "metadata": {
        "colab": {
          "base_uri": "https://localhost:8080/"
        },
        "id": "eWlcIbQaCkoU",
        "outputId": "80b71c65-676a-498c-f6dd-8f8248dc9a7f"
      },
      "execution_count": 3,
      "outputs": [
        {
          "output_type": "stream",
          "name": "stdout",
          "text": [
            "The (5000000 + n)-th prime number is: 240776881\n",
            "Number of primes between 2^25 and 2^26: 1894120\n"
          ]
        }
      ]
    },
    {
      "cell_type": "markdown",
      "source": [
        "# Project 2 : ElGamal Cryptosystem Decryption using Pohlig-Hellman Algorithm"
      ],
      "metadata": {
        "id": "RITXuJFbChAm"
      }
    },
    {
      "cell_type": "markdown",
      "source": [
        "\n",
        "we implement the decryption of a message encrypted using the ElGamal cryptosystem. The decryption process involves using the Pohlig-Hellman algorithm to find the private key of Bob (denoted `x_B`), and then decrypting the ciphertext using this key.\n",
        "\n",
        "The ciphertext is a list of pairs of numbers, which were encrypted using Alice's public key, and we use the following parameters:\n",
        "\n",
        "- **p**: A large prime number defining the group.\n",
        "- **g**: A generator of the cyclic group.\n",
        "- **gB**: Bob's public key.\n",
        "- **aB**: Bob's private key (which we need to recover).\n",
        "- **ciphertext**: The encrypted message consisting of pairs of numbers.\n",
        "\n",
        "We will:\n",
        "1. Compute the private key `x_B` using the Pohlig-Hellman algorithm.\n",
        "2. Decrypt the ciphertext using the private key.\n",
        "3. Translate the decrypted message into readable text.\n",
        "\n",
        "The output will include the decrypted message and its translation into characters corresponding to the message format."
      ],
      "metadata": {
        "id": "a_xkar2KJhjj"
      }
    },
    {
      "cell_type": "markdown",
      "source": [
        "### Extended Euclidean Algorithm"
      ],
      "metadata": {
        "id": "yxKuedoiDHUv"
      }
    },
    {
      "cell_type": "code",
      "source": [
        "# Extended GCD algorithm\n",
        "def extended_gcd(a, b):\n",
        "    if a == 0:\n",
        "        return b, 0, 1\n",
        "    gcd, x1, y1 = extended_gcd(b % a, a)\n",
        "    x = y1 - (b // a) * x1\n",
        "    y = x1\n",
        "    return gcd, x, y\n",
        "\n",
        "# Modular inverse using Extended GCD\n",
        "def modular_inverse(a, p):\n",
        "    gcd, x, _ = extended_gcd(a, p)\n",
        "    if gcd != 1:\n",
        "        raise ValueError(\"Modular inverse does not exist\")\n",
        "    return x % p"
      ],
      "metadata": {
        "id": "ShuHVnsnDCHD"
      },
      "execution_count": 4,
      "outputs": []
    },
    {
      "cell_type": "markdown",
      "source": [
        "## Prime factorization"
      ],
      "metadata": {
        "id": "WiHRqMJIpPON"
      }
    },
    {
      "cell_type": "code",
      "source": [
        "# Prime factorization of p-1 (without using sympy)\n",
        "def prime_factors(n):\n",
        "    factors = []\n",
        "    # Check for number of 2s\n",
        "    while n % 2 == 0:\n",
        "        factors.append(2)\n",
        "        n //= 2\n",
        "    # Check for odd numbers\n",
        "    for i in range(3, int(n**0.5) + 1, 2):\n",
        "        while n % i == 0:\n",
        "            factors.append(i)\n",
        "            n //= i\n",
        "    if n > 2:\n",
        "        factors.append(n)\n",
        "    return factors"
      ],
      "metadata": {
        "id": "ew-8rq9MHpFb"
      },
      "execution_count": 5,
      "outputs": []
    },
    {
      "cell_type": "markdown",
      "source": [
        "## Chinese Remainder Theorem"
      ],
      "metadata": {
        "id": "yO78NtmqpVDT"
      }
    },
    {
      "cell_type": "code",
      "source": [
        "# Chinese Remainder Theorem\n",
        "def chinese_remainders(residues, moduli):\n",
        "    total = 0\n",
        "    prod = 1\n",
        "    for mod in moduli:\n",
        "        prod *= mod\n",
        "    for res, mod in zip(residues, moduli):\n",
        "        p = prod // mod\n",
        "        total += res * modular_inverse(p, mod) * p\n",
        "    return total % prod"
      ],
      "metadata": {
        "id": "T1Oxy6ECHqdY"
      },
      "execution_count": 6,
      "outputs": []
    },
    {
      "cell_type": "markdown",
      "source": [
        "#### Pohlig-Hellman Algorithm\n",
        "This algorithm is used to compute discrete logarithms in groups whose order has small prime factors."
      ],
      "metadata": {
        "id": "AJciMnTfC9it"
      }
    },
    {
      "cell_type": "code",
      "source": [
        "# Pohlig-Hellman algorithm\n",
        "def pohlig_hellman(g, h, p, q):\n",
        "    n = p - 1\n",
        "    factors = prime_factors(n)\n",
        "    residues = []\n",
        "    moduli = []\n",
        "    for q in factors:\n",
        "        e = n // q\n",
        "        gq = pow(g, e, p)\n",
        "        hq = pow(h, e, p)\n",
        "        for i in range(q):\n",
        "            if pow(gq, i, p) == hq:\n",
        "                residues.append(i)\n",
        "                moduli.append(q)\n",
        "                break\n",
        "    return chinese_remainders(residues, moduli)"
      ],
      "metadata": {
        "id": "aYOWqJrnCvzg"
      },
      "execution_count": 7,
      "outputs": []
    },
    {
      "cell_type": "markdown",
      "source": [
        "## Decryption"
      ],
      "metadata": {
        "id": "jbQLVMXWpYaW"
      }
    },
    {
      "cell_type": "code",
      "source": [
        "# Decrypting the message\n",
        "def decrypt_message(ciphertext, p, g, gB):\n",
        "    # Compute private key x_B using Pohlig-Hellman\n",
        "    x_B = pohlig_hellman(g, gB, p, p-1)  # Assuming q = p - 1 for simplicity\n",
        "\n",
        "    decrypted_message = []\n",
        "    for c1, c2 in ciphertext:\n",
        "        # Calculate s = c1^x_B mod p\n",
        "        s = pow(c1, x_B, p)\n",
        "        # Calculate the modular inverse of s\n",
        "        s_inv = modular_inverse(s, p)\n",
        "        # Decrypt the message m\n",
        "        m = (c2 * s_inv) % p\n",
        "        decrypted_message.append(m)\n",
        "\n",
        "    return decrypted_message, x_B\n",
        "\n",
        "# Mapping from number to character\n",
        "def translate_message(x):\n",
        "    \"\"\"\n",
        "    Convert a decrypted number into its corresponding character(s).\n",
        "    Each number is split into two-digit pairs and mapped to characters.\n",
        "    \"\"\"\n",
        "    # Define the mapping for numbers to characters\n",
        "    let = {i: chr(64 + i - 10) for i in range(11, 37)}  # Maps 11-36 to A-Z\n",
        "    spe = {41: ' ', 42: '\"', 43: '.', 44: ',', 45: '?'}  # Special characters\n",
        "    mapping = {**let, **spe}  # Combine letter and special characters\n",
        "\n",
        "    # Convert the decrypted number into a string and map it\n",
        "    return ''.join(mapping.get(int(str(x)[i:i+2]), '?') for i in range(0, len(str(x)), 2))"
      ],
      "metadata": {
        "id": "dXYBOVedH6yi"
      },
      "execution_count": 8,
      "outputs": []
    },
    {
      "cell_type": "markdown",
      "source": [
        "#### Full Decryption Process\n",
        "Now, we can combine everything. First, we will compute Bob's private key using the Pohlig-Hellman algorithm. Then, we'll decrypt each ciphertext pair using the elgamal_decrypt function and finally decode the message."
      ],
      "metadata": {
        "id": "B2JhXG_zIPoe"
      }
    },
    {
      "cell_type": "code",
      "source": [
        "ciphertext = [\n",
        "    [83025882561049910713, 66740266984208729661],\n",
        "    [117087132399404660932, 44242256035307267278],\n",
        "    [67508282043396028407, 77559274822593376192],\n",
        "    [60938739831689454113, 14528504156719159785],\n",
        "    [5059840044561914427, 59498668430421643612],\n",
        "    [92232942954165956522, 105988641027327945219],\n",
        "    [97102226574752360229, 46166643538418294423]\n",
        "]\n",
        "\n",
        "p = 123456789987654353003\n",
        "g = 123456789\n",
        "gB = 39318628345168608817\n",
        "\n",
        "# Decrypt the message\n",
        "decrypted_message, x_B = decrypt_message(ciphertext, p, g, gB)\n",
        "\n",
        "translated_message = [translate_message(m) for m in decrypted_message]\n",
        "\n",
        "# Output results\n",
        "print(f\"Computed private key x_B: {x_B}\")\n",
        "print(f\"Decrypted Message: {decrypted_message}\")\n",
        "print(f\"Translated Message: {''.join(translated_message)}\")"
      ],
      "metadata": {
        "colab": {
          "base_uri": "https://localhost:8080/"
        },
        "id": "54t57_PrIDOM",
        "outputId": "177c5272-56f7-4ced-f7b4-54a75ca0d9e7"
      },
      "execution_count": 7,
      "outputs": [
        {
          "output_type": "stream",
          "name": "stdout",
          "text": [
            "Computed private key x_B: 5191\n",
            "Decrypted Message: [19244117112225192941, 16191522142944411631, 22224125164116222533, 15282944412628192319, 30193215411522152315, 24302941141124131541, 16252841182531282943]\n",
            "Translated Message: IN GALOIS FIELDS, FULL OF FLOWERS, PRIMITIVE ELEMENTS DANCE FOR HOURS.\n"
          ]
        }
      ]
    },
    {
      "cell_type": "markdown",
      "source": [
        "# Overall Output\n",
        "\n",
        "### Computed private key:\n",
        "> **x_B:** 5191  \n",
        "\n",
        "### Decrypted msg:\n",
        "> [19244117112225192941, 16191522142944411631, 22224125164116222533, 15282944412628192319,  \n",
        "30193215411522152315, 24302941141124131541, 16252841182531282943]\n",
        "\n",
        "### Translated msg:\n",
        "\n",
        "> IN GALOIS FIELDS, FULL OF FLOWERS, PRIMITIVE ELEMENTS DANCE FOR HOURS.\n"
      ],
      "metadata": {
        "id": "1NCXlRffpJ8m"
      }
    },
    {
      "cell_type": "markdown",
      "source": [
        "# Project 3: Pohlig-Hellman, Miller-Rabin"
      ],
      "metadata": {
        "id": "l6UB2js_pevQ"
      }
    },
    {
      "cell_type": "code",
      "source": [
        "import random\n",
        "\n",
        "# Function to check primality using Miller-Rabin test\n",
        "def is_prime(n, k=10):\n",
        "    if n < 2:\n",
        "        return False\n",
        "    if n in (2, 3):\n",
        "        return True\n",
        "    if n % 2 == 0:\n",
        "        return False\n",
        "\n",
        "    # Write n-1 as 2^r * d\n",
        "    r, d = 0, n - 1\n",
        "    while d % 2 == 0:\n",
        "        r += 1\n",
        "        d //= 2\n",
        "\n",
        "    # Miller-Rabin test\n",
        "    for _ in range(k):\n",
        "        a = random.randint(2, n - 2)\n",
        "        x = pow(a, d, n)\n",
        "        if x == 1 or x == n - 1:\n",
        "            continue\n",
        "        for _ in range(r - 1):\n",
        "            x = pow(x, 2, n)\n",
        "            if x == n - 1:\n",
        "                break\n",
        "        else:\n",
        "            return False\n",
        "    return True\n",
        "\n",
        "# Generate a large prime number of approximately 'digits' length\n",
        "def generate_large_prime(digits):\n",
        "    while True:\n",
        "        num = random.randint(10**(digits-1), 10**digits - 1)\n",
        "        if is_prime(num):\n",
        "            return num\n",
        "\n",
        "# Generate p1 and p2 following the given constraints\n",
        "def generate_p1_p2():\n",
        "    while True:\n",
        "        p1 = generate_large_prime(233)  # A prime of around 233 digits\n",
        "        p2 = generate_large_prime(466)  # A prime of around 466 digits\n",
        "        if p1 < p2 < p1**3:\n",
        "            return p1, p2\n",
        "\n",
        "# Generate p = 2 * p1 * p2 + 1\n",
        "while True:\n",
        "    p1, p2 = generate_p1_p2()\n",
        "    p = 2 * p1 * p2 + 1\n",
        "    if len(str(p)) >= 700 and is_prime(p):\n",
        "        break\n",
        "\n",
        "\n",
        "print(\"Generated values:\")\n",
        "print(f\"p1: {p1} (length: {len(str(p1))})\")\n",
        "print(f\"p2: {p2} (length: {len(str(p2))})\")\n",
        "print(f\"p: {p} (length: {len(str(p))})\")\n",
        "\n",
        "# Generate ElGamal keys\n",
        "g = random.randint(2, p - 2)\n",
        "sk = random.randint(2, p - 2)  # Private key\n",
        "pk = pow(g, sk, p)  # Public key\n",
        "\n",
        "print(\"\\nElGamal Key Generation:\")\n",
        "print(f\"Public key (g, p, pk): ({g}, {p}, {pk})\")\n",
        "print(f\"Private key (sk): {sk}\")"
      ],
      "metadata": {
        "colab": {
          "base_uri": "https://localhost:8080/"
        },
        "id": "KhoJDHQwpiGb",
        "outputId": "e2b6b44b-2d55-4d38-c0b8-569102df40f7"
      },
      "execution_count": 1,
      "outputs": [
        {
          "output_type": "stream",
          "name": "stdout",
          "text": [
            "Generated values:\n",
            "p1: 76964654513346247570515381303552648383540262237250374326580388580880487598620513273116913285652477202799863244127966902952232786198192667729722619072588083143067094369274666823847559312736744518599578814678488112625544479334283880131 (length: 233)\n",
            "p2: 8635430222160857351730635918352285858270423559152758664185858008490216415435585329085177194045442834264438925840030658424494161291713078650838775459507149069647247859266481004711577462334483494212209964514611217826573503061264310337718982346959351037182054068246101893076564492070619018335003146215286512431142028876595526762751014223026562762002508630453933677648028132723526374757453521057128289642424075120206396102107792318218226151085000722065447255717695427321 (length: 466)\n",
            "p: 1329245807245438438245205624771121447955734040432260221647903372424070323148539635123162634849020668855937452116215469545547271093704582287371082433721065466257613636315472189545618622213624254843053170782663819620190167865177156563649134163836126393924486381733752388468702770998744363504469730556328525299032739164713076807403767911277232841442534394704736909017079839740971564581861324868566341899695769488017882031559382060861954633478228747824060628770380837470714698264459806675537815394186251341475771064377058619298818994969248014474815290096123835932412374734914507212192528387072528144395132916223295475012582357094248467257210932274503563897905895919261274429876964566868626722279972918103 (length: 700)\n",
            "\n",
            "ElGamal Key Generation:\n",
            "Public key (g, p, pk): (932267561946973984931026991307399687200209398839585329819021837989899709883228428076760043458782566258654869077831769182235598690799350223130445233535911424359889436482054235023115387354226093538427257287065471723383443853148897395858417465425109146766350845586390406728923208675136205156873204802982280185798552438133559020897984138476467424525389755489564937407394557935342588014832198009510722707162749988238732722969381883604521376596578329415663064647657186269911553092342156029626165243161036737361819934349353048421179416399755904758266933011100368912975520969947761165103895748810664545742373864952103261850485958904837922971761173705432632449380923575579660604300598247714537182551201011493, 1329245807245438438245205624771121447955734040432260221647903372424070323148539635123162634849020668855937452116215469545547271093704582287371082433721065466257613636315472189545618622213624254843053170782663819620190167865177156563649134163836126393924486381733752388468702770998744363504469730556328525299032739164713076807403767911277232841442534394704736909017079839740971564581861324868566341899695769488017882031559382060861954633478228747824060628770380837470714698264459806675537815394186251341475771064377058619298818994969248014474815290096123835932412374734914507212192528387072528144395132916223295475012582357094248467257210932274503563897905895919261274429876964566868626722279972918103, 1212873089369350538818253235522441449102375329321693486915432145453351858931054272023428032224095922190316243170701255626426549738785229764114966417250278032816006871328405136863074935730845983869398808578747140507309048625987030148981575776449306294774197195356262413986653158707056793160163094645532838064897064824791184123616743824380492429687268161395324000845263676375635028309108728068463190166702674168697437790831279484597564437376114299470566456403130027168803901669828945584334363301031207829493909069829545674551973707294397425556196717038370329409530462505239685230448126536716776812021145962318409359091147514984017459998457446434770078471296764090845941968297035608758999213583418828169)\n",
            "Private key (sk): 968263238568143828170971159011738648776307390345514919346482207658119172971276374353006400415866710315521287641554439959903587336612872054779814024530965361931400871480504298939319626763312775381426543480368582435105844549387430614623455618545455089349690320055955444307323402584402407649931065877848481752012562494569541145409419585462881950653887902953221202272966097798066013192824753361327671820611354424516059160975592896261938253534260344112145424105956864251124749334846150636232180312610473453663683762556662522384018496626916580647767388619902449103626307754573347829659255575173997405394071390101571041195813719476890354363526554954933730472549299207373911252273952847025507410959592660336\n"
          ]
        }
      ]
    },
    {
      "cell_type": "code",
      "source": [
        "# ElGamal Encryption\n",
        "def elgamal_encrypt(message, g, p, pk):\n",
        "    m = int.from_bytes(message.encode(), 'big')\n",
        "    if m >= p:\n",
        "        raise ValueError(\"Message too large!\")\n",
        "    k = random.randint(2, p - 2)\n",
        "    c1 = pow(g, k, p)\n",
        "    c2 = (m * pow(pk, k, p)) % p\n",
        "    return c1, c2\n",
        "\n",
        "# ElGamal Decryption\n",
        "def elgamal_decrypt(c1, c2, sk, p):\n",
        "    s = pow(c1, sk, p)\n",
        "    m = (c2 * pow(s, -1, p)) % p\n",
        "    return m.to_bytes((m.bit_length() + 7) // 8, 'big').decode()\n",
        "\n",
        "# Example Message Encryption and Decryption\n",
        "message = \"African Institute for Mathematical Sciences\"\n",
        "c1, c2 = elgamal_encrypt(message, g, p, pk)\n",
        "decrypted_message = elgamal_decrypt(c1, c2, sk, p)\n",
        "\n",
        "print(\"\\nElGamal Encryption & Decryption:\")\n",
        "print(f\"Original Message: {message}\")\n",
        "print(f\"Ciphertext: (c1={c1}, c2={c2})\")\n",
        "print(f\"Decrypted Message: {decrypted_message}\")"
      ],
      "metadata": {
        "colab": {
          "base_uri": "https://localhost:8080/"
        },
        "id": "b95Uh77Rx9ew",
        "outputId": "c1976da5-6a73-4526-cfcb-7e55625cddc2"
      },
      "execution_count": 2,
      "outputs": [
        {
          "output_type": "stream",
          "name": "stdout",
          "text": [
            "\n",
            "ElGamal Encryption & Decryption:\n",
            "Original Message: African Institute for Mathematical Sciences\n",
            "Ciphertext: (c1=866599083354253750219684547593643050378144909425196613356608676321901692418653632510648369117112310533465599251417428945400079865434006208330457544153060497866026051314442537625388205596115581269770255362647172909581056953696970382156307522740385541647343602798879650626734076569117937473300165822340290774588980225031566515285059968430758277683140743436125026453821250841442595260683580278028826042566760252630794591639611798866079695253825958059529398151789699124449045159956405948663368447563317804593548661295527952875579805069744191091866200055670965388403737018036178111606835599074757249865296865320102938345333411081618239137237123886602657222259983688326839646704150099261962164697684568808, c2=35200314541581619061181489805570932493798089172933189347815347060503447047621597694855377011697804231828680364739460192571709133435973820564652699380135493964779244911379577654337703874946090388497523474655277141290761424025201519190238732515236799750093634488265961169932886104538803428038729145237052577779726392611589039129250271718121854054589776477886736115997748583345496876789422903683857492078398547706335363644852529899829653220100358320591918164154265792718699230730389025492473737215100620702195908563204270420299687294312135282647506482366426926389519850343040385339434509586029474004018145158444985744652740151171531031388161783954429729100723050771379739050325950065702475635107815683)\n",
            "Decrypted Message: African Institute for Mathematical Sciences\n"
          ]
        }
      ]
    },
    {
      "cell_type": "markdown",
      "source": [
        "# Overall ouput of project 3:"
      ],
      "metadata": {
        "id": "AXNh1_tHCKE7"
      }
    },
    {
      "cell_type": "markdown",
      "source": [
        "# Prime Number Generation  \n",
        "This section generates the prime numbers \\( p_1 \\) and \\( p_2 \\), then computes \\( p \\) ensuring it meets the conditions.  \n",
        "\n",
        "## Generated Values:\n",
        "- **\\( p_1 \\)**:  \n",
        "  76964654513346247570515381303552648383540262237250374326580388580880487598620513273116913285652477202799863244127966902952232786198192667729722619072588083143067094369274666823847559312736744518599578814678488112625544479334283880131  \n",
        "  _(length: 233 digits)_\n",
        "\n",
        "- **\\( p_2 \\)**:  \n",
        "  8635430222160857351730635918352285858270423559152758664185858008490216415435585329085177194045442834264438925840030658424494161291713078650838775459507149069647247859266481004711577462334483494212209964514611217826573503061264310337718982346959351037182054068246101893076564492070619018335003146215286512431142028876595526762751014223026562762002508630453933677648028132723526374757453521057128289642424075120206396102107792318218226151085000722065447255717695427321  \n",
        "  _(length: 466 digits)_\n",
        "\n",
        "- **\\( p \\) (Computed as \\( p = 2 \\times p_1 \\times p_2 + 1 \\))**:  \n",
        "  1329245807245438438245205624771121447955734040432260221647903372424070323148539635123162634849020668855937452116215469545547271093704582287371082433721065466257613636315472189545618622213624254843053170782663819620190167865177156563649134163836126393924486381733752388468702770998744363504469730556328525299032739164713076807403767911277232841442534394704736909017079839740971564581861324868566341899695769488017882031559382060861954633478228747824060628770380837470714698264459806675537815394186251341475771064377058619298818994969248014474815290096123835932412374734914507212192528387072528144395132916223295475012582357094248467257210932274503563897905895919261274429876964566868626722279972918103  \n",
        "  _(length: 700 digits)_\n"
      ],
      "metadata": {
        "id": "vxF0STZRCP89"
      }
    },
    {
      "cell_type": "markdown",
      "source": [
        "> # ElGamal Encryption & Decryption  \n",
        "\n",
        "In this step, we encrypt and decrypt a message using the generated ElGamal key pair.  \n",
        "\n",
        "## Original Message:  \n",
        "**African Institute for Mathematical Sciences**  \n",
        "\n",
        "## Ciphertext:  \n",
        "- **\\( c_1 \\)**:  \n",
        "  866599083354253750219684547593643050378144909425196613356608676321901692418653632510648369117112310533465599251417428945400079865434006208330457544153060497866026051314442537625388205596115581269770255362647172909581056953696970382156307522740385541647343602798879650626734076569117937473300165822340290774588980225031566515285059968430758277683140743436125026453821250841442595260683580278028826042566760252630794591639611798866079695253825958059529398151789699124449045159956405948663368447563317804593548661295527952875579805069744191091866200055670965388403737018036178111606835599074757249865296865320102938345333411081618239137237123886602657222259983688326839646704150099261962164697684568808  \n",
        "\n",
        "- **\\( c_2 \\)**:  \n",
        "  35200314541581619061181489805570932493798089172933189347815347060503447047621597694855377011697804231828680364739460192571709133435973820564652699380135493964779244911379577654337703874946090388497523474655277141290761424025201519190238732515236799750093634488265961169932886104538803428038729145237052577779726392611589039129250271718121854054589776477886736115997748583345496876789422903683857492078398547706335363644852529899829653220100358320591918164154265792718699230730389025492473737215100620702195908563204270420299687294312135282647506482366426926389519850343040385339434509586029474004018145158444985744652740151171531031388161783954429729100723050771379739050325950065702475635107815683  \n",
        "\n",
        "## Decrypted Message:  \n",
        "**African Institute for Mathematical Sciences**  \n"
      ],
      "metadata": {
        "id": "6ep0_tDpCb8_"
      }
    }
  ]
}